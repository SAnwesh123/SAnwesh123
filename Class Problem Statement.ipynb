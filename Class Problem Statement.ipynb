{
 "cells": [
  {
   "cell_type": "markdown",
   "id": "d462dd38",
   "metadata": {},
   "source": [
    "Defination of abstract class:\n",
    "\n",
    "An abstract class can be considered as a blueprint for other classes. It allows you to create a set of methods that must be created within any child classes built from the abstract class. A class which contains one or more abstract methods is called an abstract class."
   ]
  },
  {
   "cell_type": "code",
   "execution_count": 1,
   "id": "5b01ef11",
   "metadata": {},
   "outputs": [
    {
     "name": "stdout",
     "output_type": "stream",
     "text": [
      "I have 3 sides\n",
      "I have 4 sides\n",
      "I have 5 sides\n",
      "I have 6 sides\n"
     ]
    }
   ],
   "source": [
    "# Python program showing\n",
    "# abstract base class work\n",
    "\n",
    "from abc import ABC, abstractmethod\n",
    "\n",
    "class Polygon(ABC):\n",
    "\n",
    "    @abstractmethod\n",
    "    def noofsides(self):\n",
    "        pass\n",
    "\n",
    "class Triangle(Polygon):\n",
    "\n",
    "    # overriding abstract method\n",
    "    def noofsides(self):\n",
    "        print(\"I have 3 sides\")\n",
    "\n",
    "class Pentagon(Polygon):\n",
    "\n",
    "    # overriding abstract method\n",
    "    def noofsides(self):\n",
    "        print(\"I have 5 sides\")\n",
    "\n",
    "class Hexagon(Polygon):\n",
    "\n",
    "    # overriding abstract method\n",
    "    def noofsides(self):\n",
    "        print(\"I have 6 sides\")\n",
    "\n",
    "class Quadrilateral(Polygon):\n",
    "\n",
    "            # overriding abstract method\n",
    "    def noofsides(self):\n",
    "        print(\"I have 4 sides\")\n",
    "\n",
    "# Driver code\n",
    "R = Triangle()\n",
    "R.noofsides()\n",
    "\n",
    "K = Quadrilateral()\n",
    "K.noofsides()\n",
    "\n",
    "R = Pentagon()\n",
    "R.noofsides()\n",
    "\n",
    "K = Hexagon()\n",
    "K.noofsides()\n"
   ]
  },
  {
   "cell_type": "markdown",
   "id": "ae8c1e41",
   "metadata": {},
   "source": [
    "Defination of multiple inheritance"
   ]
  },
  {
   "cell_type": "markdown",
   "id": "cbee4f7f",
   "metadata": {},
   "source": [
    "When a class is derived from more than one base class it is called multiple Inheritance. The derived class inherits all the features of the base case."
   ]
  },
  {
   "cell_type": "code",
   "execution_count": 4,
   "id": "b9efdc2d",
   "metadata": {},
   "outputs": [
    {
     "name": "stdout",
     "output_type": "stream",
     "text": [
      "In Class2\n"
     ]
    }
   ],
   "source": [
    "# Python Program to depict multiple inheritance\n",
    "# when method is overridden in both classes\n",
    "\n",
    "class Class1:\n",
    "    def m(self):\n",
    "        print(\"In Class1\")\n",
    "\n",
    "class Class2(Class1):\n",
    "    def m(self):\n",
    "        print(\"In Class2\")\n",
    "\n",
    "class Class3(Class1):\n",
    "    def m(self):\n",
    "        print(\"In Class3\")\n",
    "        \n",
    "class Class4(Class2, Class3):\n",
    "    pass\n",
    "    \n",
    "obj = Class4()\n",
    "obj.m()\n"
   ]
  },
  {
   "cell_type": "markdown",
   "id": "1ce98482",
   "metadata": {},
   "source": [
    "Here in this example class1  is the parent class4 the child class which inherit the property of the parent class1."
   ]
  },
  {
   "cell_type": "markdown",
   "id": "cb20a88a",
   "metadata": {},
   "source": [
    "Defination of the decorator:\n",
    "\n",
    "Decorators are a very powerful and useful tool in Python since it allows programmers to modify the behaviour of function or class. It allows to wrap another function in order to extend the behaviour of the wrapped function, without permanently modifying it."
   ]
  },
  {
   "cell_type": "code",
   "execution_count": 16,
   "id": "6adc8674",
   "metadata": {},
   "outputs": [
    {
     "name": "stdout",
     "output_type": "stream",
     "text": [
      "3628800\n",
      "Total time taken in :  factorial 2.009181261062622\n"
     ]
    }
   ],
   "source": [
    "# importing libraries\n",
    "import time\n",
    "import math\n",
    "\n",
    "# decorator to calculate duration\n",
    "# taken by any function.\n",
    "def calculate_time(func):\n",
    "\t\n",
    "\t# added arguments inside the inner1,\n",
    "\t# if function takes any arguments,\n",
    "\t# can be added like this.\n",
    "\tdef inner1(*args, **kwargs):\n",
    "\n",
    "\t\t# storing time before function execution\n",
    "\t\tbegin = time.time()\n",
    "\t\t\n",
    "\t\tfunc(*args, **kwargs)\n",
    "\n",
    "\t\t# storing time after function execution\n",
    "\t\tend = time.time()\n",
    "\t\tprint(\"Total time taken in : \", func.__name__, end - begin)\n",
    "\n",
    "\treturn inner1\n",
    "\n",
    "\n",
    "\n",
    "# this can be added to any function present,\n",
    "# in this case to calculate a factorial\n",
    "@calculate_time\n",
    "def factorial(num):\n",
    "\n",
    "\t# sleep 2 seconds because it takes very less time\n",
    "\t# so that you can see the actual difference\n",
    "\ttime.sleep(2)\n",
    "\tprint(math.factorial(num))\n",
    "\n",
    "# calling the function.\n",
    "factorial(10)\n"
   ]
  },
  {
   "cell_type": "code",
   "execution_count": null,
   "id": "3503fdd2",
   "metadata": {},
   "outputs": [],
   "source": []
  }
 ],
 "metadata": {
  "kernelspec": {
   "display_name": "Python 3 (ipykernel)",
   "language": "python",
   "name": "python3"
  },
  "language_info": {
   "codemirror_mode": {
    "name": "ipython",
    "version": 3
   },
   "file_extension": ".py",
   "mimetype": "text/x-python",
   "name": "python",
   "nbconvert_exporter": "python",
   "pygments_lexer": "ipython3",
   "version": "3.9.7"
  }
 },
 "nbformat": 4,
 "nbformat_minor": 5
}
